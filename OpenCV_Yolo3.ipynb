{
 "cells": [
  {
   "cell_type": "code",
   "execution_count": null,
   "id": "31dd3b18",
   "metadata": {},
   "outputs": [],
   "source": [
    "#Dependencies\n",
    "\n",
    "#pip install matplotlib\n",
    "#pip install numpy\n",
    "#pip install opencv-python\n",
    "\n",
    "#Importing\n",
    "\n",
    "import cv2\n",
    "import numpy\n",
    "import matplotlib.pyplot"
   ]
  },
  {
   "cell_type": "code",
   "execution_count": null,
   "id": "009d2c0e",
   "metadata": {},
   "outputs": [],
   "source": [
    "#More info at https://opencv-tutorial.readthedocs.io/en/latest/yolo/yolo.html#load-the-yolo-network\n",
    "\n",
    "#CFG file at: https://github.com/pjreddie/darknet/blob/master/cfg/yolov3.cfg\n",
    "#Coco labels at: https://github.com/pjreddie/darknet/blob/master/data/coco.names\n",
    "#Weights at: https://pjreddie.com/media/files/yolov3.weights\n",
    "\n",
    "#Initializing Yolo3 network\n",
    "\n",
    "yolo = cv2.dnn.readNet(\"yolov3.weights\", \"yolov3.cfg\")\n",
    "\n",
    "#Importing labels\n",
    "\n",
    "classes = []\n",
    "with open(\"coco.names\",\"r\") as file:\n",
    "    classes = [line.strip() for line in file.readlines()]"
   ]
  },
  {
   "cell_type": "code",
   "execution_count": null,
   "id": "4cb9ccaf",
   "metadata": {},
   "outputs": [],
   "source": [
    "#Read network layers\n",
    "#Still got no idea what outputlayers specifically does\n",
    "\n",
    "layer_names = yolo.getLayerNames()\n",
    "outputlayers = [layer_names[i-1] for i in yolo.getUnconnectedOutLayers()]\n",
    "\n",
    "#Setting colors for rectangles\n",
    "\n",
    "colorBlue   = (0, 0, 255)\n",
    "colorGreen = (0, 255, 0)\n",
    "colorRed = (255, 0, 0)"
   ]
  },
  {
   "cell_type": "code",
   "execution_count": null,
   "id": "6ffd54b0",
   "metadata": {},
   "outputs": [],
   "source": [
    "# loading the image\n",
    "\n",
    "name = \"Pictures/image1.jpg\"\n",
    "img = cv2.imread(name)\n",
    "height, width, channels = img.shape\n",
    "matplotlib.pyplot.imshow(img)"
   ]
  },
  {
   "cell_type": "code",
   "execution_count": null,
   "id": "fed55b3e",
   "metadata": {},
   "outputs": [],
   "source": [
    "#Converting image into BLOB\n",
    "\n",
    "blob = cv2.dnn.blobFromImage(img, 1 / 255.0, (416, 416), swapRB=True, crop=False)\n",
    "yolo.setInput(blob)\n",
    "outputs = yolo.forward(outputlayers)"
   ]
  },
  {
   "cell_type": "code",
   "execution_count": null,
   "id": "afd9f6d6",
   "metadata": {},
   "outputs": [],
   "source": [
    "class_ids = []\n",
    "confidences = []\n",
    "boxes = []\n",
    "for output in outputs:\n",
    "    for detection in output:\n",
    "        scores = detection[5:]\n",
    "        class_id = numpy.argmax(scores)\n",
    "        confidence = scores[class_id]\n",
    "        \n",
    "        if (confidence > 0.5):\n",
    "            center_x = int(detection[0] * width)\n",
    "            center_y = int(detection[1] * height)\n",
    "            w = int(detection[2] * width)\n",
    "            h = int(detection[3] * height)\n",
    "            x = int(center_x - w/2)\n",
    "            y = int(center_y - h/2)\n",
    "            \n",
    "            boxes.append([x, y, w, h])\n",
    "            confidences.append(float(confidence))\n",
    "            class_ids.append(class_id)"
   ]
  },
  {
   "cell_type": "code",
   "execution_count": null,
   "id": "10cab814",
   "metadata": {},
   "outputs": [],
   "source": [
    "indices = cv2.dnn.NMSBoxes(boxes, confidences, 0.5, 0.4)\n",
    "colors = numpy.random.uniform(0, 255, size=(len(classes), 3))"
   ]
  },
  {
   "cell_type": "code",
   "execution_count": null,
   "id": "f71c1142",
   "metadata": {},
   "outputs": [],
   "source": [
    "for i in range(len(boxes)):\n",
    "    if i in indices:\n",
    "        x, y, w, h = boxes[i]\n",
    "        label = str(classes[class_ids[i]])\n",
    "        start = (x,y)\n",
    "        end = (x+w,y+h)\n",
    "        cv2.rectangle(img, start, end, colorGreen, 4)\n",
    "        cv2.putText(img, label, (x,y-20), cv2.FONT_HERSHEY_TRIPLEX, 4, colorRed, 4)"
   ]
  },
  {
   "cell_type": "code",
   "execution_count": null,
   "id": "bfbaec8a",
   "metadata": {},
   "outputs": [],
   "source": [
    "matplotlib.pyplot.imshow(img)"
   ]
  },
  {
   "cell_type": "code",
   "execution_count": null,
   "id": "3792cacb",
   "metadata": {},
   "outputs": [],
   "source": []
  },
  {
   "cell_type": "code",
   "execution_count": null,
   "id": "26cd9590",
   "metadata": {},
   "outputs": [],
   "source": []
  }
 ],
 "metadata": {
  "kernelspec": {
   "display_name": "Python 3 (ipykernel)",
   "language": "python",
   "name": "python3"
  },
  "language_info": {
   "codemirror_mode": {
    "name": "ipython",
    "version": 3
   },
   "file_extension": ".py",
   "mimetype": "text/x-python",
   "name": "python",
   "nbconvert_exporter": "python",
   "pygments_lexer": "ipython3",
   "version": "3.9.5"
  }
 },
 "nbformat": 4,
 "nbformat_minor": 5
}
